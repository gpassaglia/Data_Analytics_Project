{
 "cells": [
  {
   "cell_type": "code",
   "execution_count": 8,
   "metadata": {},
   "outputs": [],
   "source": [
    "import numpy as np\n",
    "import pandas as pd \n",
    "from numpy import array\n",
    "from sklearn.svm import LinearSVC, SVC\n",
    "from sklearn.metrics import accuracy_score, confusion_matrix, f1_score, classification_report \n",
    "from sklearn.feature_extraction.text import TfidfVectorizer\n",
    "import re\n",
    "import nltk\n",
    "from nltk.corpus import stopwords\n",
    "from sklearn.model_selection import train_test_split"
   ]
  },
  {
   "cell_type": "code",
   "execution_count": 2,
   "metadata": {},
   "outputs": [],
   "source": [
    "data = pd.read_csv('/home/alaa/Desktop/Data_Analytics/Tweets.csv')"
   ]
  },
  {
   "cell_type": "code",
   "execution_count": 3,
   "metadata": {},
   "outputs": [],
   "source": [
    "def remove_mentions(input_tweet):\n",
    "    for i in range(len(input_tweet)):\n",
    "        input_tweet[i] = re.sub(r'@\\w+', '', input_tweet[i])\n",
    "    return input_tweet\n",
    "\n",
    "def remove_links(input_tweet):\n",
    "    for i in range(len(input_tweet)):\n",
    "        input_tweet[i] = re.sub(r'http\\S+', '',input_tweet[i])\n",
    "    return input_tweet\n",
    "\n",
    "def remove_stopwords(input_tweet):\n",
    "    list_of_stopwords = stopwords.words('english')\n",
    "    #for sentiment analysis some stopwords might give an important indication ,for example: not no, so they should not be removed.\n",
    "    important_stopwords = [\"not\", \"no\"]\n",
    "    words = input_tweet.split()\n",
    "    clean_stopwords = [word for word in words if (word not in list_of_stopwords or word in important_stopwords) and len(word) > 1]\n",
    "    return \" \".join(clean_stopwords)\n",
    "\n",
    "def remove_punctuation(input_tweet):\n",
    "    for i in range(len(input_tweet)):\n",
    "        input_tweet[i] = re.sub(r'[^\\w\\s]','',input_tweet[i])\n",
    "    return input_tweet\n",
    "\n",
    "def lower_case(input_tweet):\n",
    "    for i in range(len(input_tweet)):\n",
    "        input_tweet[i] = input_tweet[i].lower()\n",
    "    return input_tweet"
   ]
  },
  {
   "cell_type": "code",
   "execution_count": 4,
   "metadata": {},
   "outputs": [],
   "source": [
    "data_new = data[['text', 'airline_sentiment']]\n",
    "preprocessed_data = data_new.apply(remove_mentions).apply(remove_links).apply(remove_punctuation).apply(lower_case)\n",
    "cleaned_tweets = []\n",
    "for tweets in preprocessed_data.text:\n",
    "    clean_stopwords = remove_stopwords(tweets)\n",
    "    cleaned_tweets.append(clean_stopwords)\n",
    "\n",
    "X = cleaned_tweets\n",
    "Y = preprocessed_data['airline_sentiment']\n",
    "\n",
    "Y = Y.map({'negative':0, 'positive':1, 'neutral':2}).astype(int)"
   ]
  },
  {
   "cell_type": "code",
   "execution_count": 6,
   "metadata": {},
   "outputs": [],
   "source": [
    "X_train, X_test, y_train, y_test = train_test_split(X, Y, test_size=0.15, random_state=20)\n",
    "X_train, X_val, y_train, y_val = train_test_split(X_train, y_train, test_size=0.18, random_state=20)"
   ]
  },
  {
   "cell_type": "code",
   "execution_count": 7,
   "metadata": {},
   "outputs": [],
   "source": [
    "\"\"\"there are many ways of representing words by numbers, one of them is tf-idf, it gives better results than than \n",
    "one hot encoding. Tf-idf stands for term frequency, inverse document frequency. and, apparently, it's obvious that the \n",
    "words which appear more often should have a greater weight in textual data analysis.\"\"\"\n",
    "\n",
    "def tf_idf(X_train,X_val,X_test):\n",
    "  vectorizer = TfidfVectorizer(ngram_range=(1, 2))\n",
    "  train_features = vectorizer.fit_transform(X_train) \n",
    "  val_features = vectorizer.transform(X_val)\n",
    "  test_features = vectorizer.transform(X_test)\n",
    "  return (train_features,val_features,test_features)"
   ]
  },
  {
   "cell_type": "code",
   "execution_count": 9,
   "metadata": {},
   "outputs": [],
   "source": [
    "def results(labels, pred):\n",
    "    print(confusion_matrix(labels, pred))\n",
    "    print(classification_report(labels, pred))\n",
    "\n",
    "\n",
    "def svm(training_features, labels_train, test_features, labels_test):\n",
    "    model = LinearSVC(C=1)\n",
    "    model.fit(training_features, labels_train)\n",
    "    print(\"Accuracy of SVM : %s\" % (accuracy_score(labels_test, model.predict(test_features))))\n",
    "    results(labels_test, model.predict(test_features))"
   ]
  },
  {
   "cell_type": "code",
   "execution_count": 10,
   "metadata": {},
   "outputs": [],
   "source": [
    "train_features,val_features,test_features=tf_idf(X_train,X_val,X_test)"
   ]
  },
  {
   "cell_type": "code",
   "execution_count": 11,
   "metadata": {},
   "outputs": [
    {
     "name": "stdout",
     "output_type": "stream",
     "text": [
      "Accuracy of SVM : 0.7977678571428571\n",
      "[[1311   22   58]\n",
      " [  73  258   32]\n",
      " [ 218   50  218]]\n",
      "              precision    recall  f1-score   support\n",
      "\n",
      "           0       0.82      0.94      0.88      1391\n",
      "           1       0.78      0.71      0.74       363\n",
      "           2       0.71      0.45      0.55       486\n",
      "\n",
      "    accuracy                           0.80      2240\n",
      "   macro avg       0.77      0.70      0.72      2240\n",
      "weighted avg       0.79      0.80      0.78      2240\n",
      "\n"
     ]
    }
   ],
   "source": [
    "svm(train_features,y_train, val_features,y_val)"
   ]
  },
  {
   "cell_type": "code",
   "execution_count": 13,
   "metadata": {},
   "outputs": [
    {
     "name": "stdout",
     "output_type": "stream",
     "text": [
      "Accuracy of SVM : 0.7987249544626593\n",
      "[[1324   18   52]\n",
      " [  84  239   39]\n",
      " [ 207   42  191]]\n",
      "              precision    recall  f1-score   support\n",
      "\n",
      "           0       0.82      0.95      0.88      1394\n",
      "           1       0.80      0.66      0.72       362\n",
      "           2       0.68      0.43      0.53       440\n",
      "\n",
      "    accuracy                           0.80      2196\n",
      "   macro avg       0.77      0.68      0.71      2196\n",
      "weighted avg       0.79      0.80      0.78      2196\n",
      "\n"
     ]
    }
   ],
   "source": [
    "svm(train_features,y_train, test_features,y_test)"
   ]
  },
  {
   "cell_type": "code",
   "execution_count": null,
   "metadata": {},
   "outputs": [],
   "source": []
  }
 ],
 "metadata": {
  "kernelspec": {
   "display_name": "Python 3",
   "language": "python",
   "name": "python3"
  },
  "language_info": {
   "codemirror_mode": {
    "name": "ipython",
    "version": 3
   },
   "file_extension": ".py",
   "mimetype": "text/x-python",
   "name": "python",
   "nbconvert_exporter": "python",
   "pygments_lexer": "ipython3",
   "version": "3.6.9"
  }
 },
 "nbformat": 4,
 "nbformat_minor": 4
}
