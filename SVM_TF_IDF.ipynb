{
 "cells": [
  {
   "cell_type": "code",
   "execution_count": 1,
   "metadata": {},
   "outputs": [],
   "source": [
    "import numpy as np\n",
    "import pandas as pd \n",
    "from numpy import array\n",
    "from sklearn.svm import LinearSVC, SVC\n",
    "from sklearn.metrics import accuracy_score, confusion_matrix, f1_score, classification_report \n",
    "from sklearn.feature_extraction.text import TfidfVectorizer\n",
    "import re\n",
    "import nltk\n",
    "from nltk.corpus import stopwords\n",
    "from sklearn.model_selection import train_test_split"
   ]
  },
  {
   "cell_type": "code",
   "execution_count": 2,
   "metadata": {},
   "outputs": [],
   "source": [
    "data = pd.read_csv('/home/alaa/Desktop/Data_Analytics/Tweets.csv')"
   ]
  },
  {
   "cell_type": "code",
   "execution_count": 3,
   "metadata": {},
   "outputs": [],
   "source": [
    "def remove_mentions(input_tweet):\n",
    "    for i in range(len(input_tweet)):\n",
    "        input_tweet[i] = re.sub(r'@\\w+', '', input_tweet[i])\n",
    "    return input_tweet\n",
    "\n",
    "def remove_links(input_tweet):\n",
    "    for i in range(len(input_tweet)):\n",
    "        input_tweet[i] = re.sub(r'http\\S+', '',input_tweet[i])\n",
    "    return input_tweet\n",
    "\n",
    "def remove_stopwords(input_tweet):\n",
    "    list_of_stopwords = stopwords.words('english')\n",
    "    #for sentiment analysis some stopwords might give an important indication ,for example: not no, so they should not be removed.\n",
    "    important_stopwords = [\"not\", \"no\"]\n",
    "    words = input_tweet.split()\n",
    "    clean_stopwords = [word for word in words if (word not in list_of_stopwords or word in important_stopwords) and len(word) > 1]\n",
    "    return \" \".join(clean_stopwords)\n",
    "\n",
    "def remove_punctuation(input_tweet):\n",
    "    for i in range(len(input_tweet)):\n",
    "        input_tweet[i] = re.sub(r'[^\\w\\s]','',input_tweet[i])\n",
    "    return input_tweet\n",
    "\n",
    "def lower_case(input_tweet):\n",
    "    for i in range(len(input_tweet)):\n",
    "        input_tweet[i] = input_tweet[i].lower()\n",
    "    return input_tweet"
   ]
  },
  {
   "cell_type": "code",
   "execution_count": 4,
   "metadata": {},
   "outputs": [],
   "source": [
    "data_new = data[['text', 'airline_sentiment']]\n",
    "preprocessed_data = data_new.apply(remove_mentions).apply(remove_links).apply(remove_punctuation).apply(lower_case)\n",
    "cleaned_tweets = []\n",
    "for tweets in preprocessed_data.text:\n",
    "    clean_stopwords = remove_stopwords(tweets)\n",
    "    cleaned_tweets.append(clean_stopwords)\n",
    "\n",
    "X = cleaned_tweets\n",
    "Y = preprocessed_data['airline_sentiment']\n",
    "\n",
    "Y = Y.map({'negative':0, 'positive':1, 'neutral':2}).astype(int)"
   ]
  },
  {
   "cell_type": "code",
   "execution_count": 5,
   "metadata": {},
   "outputs": [],
   "source": [
    "X_train, X_test, y_train, y_test = train_test_split(X, Y, test_size=0.15, random_state=20)\n",
    "X_train, X_val, y_train, y_val = train_test_split(X_train, y_train, test_size=0.18, random_state=20)"
   ]
  },
  {
   "cell_type": "code",
   "execution_count": 6,
   "metadata": {},
   "outputs": [],
   "source": [
    "\"\"\"there are many ways of representing words by numbers, one of them is tf-idf, it gives better results than than \n",
    "one hot encoding. Tf-idf stands for term frequency, inverse document frequency. and, apparently, it's obvious that the \n",
    "words which appear more often should have a greater weight in textual data analysis.\"\"\"\n",
    "\n",
    "def tf_idf(X_train,X_val,X_test):\n",
    "  vectorizer = TfidfVectorizer(ngram_range=(1, 2))\n",
    "  train_features = vectorizer.fit_transform(X_train) \n",
    "  val_features = vectorizer.transform(X_val)\n",
    "  test_features = vectorizer.transform(X_test)\n",
    "  return (train_features,val_features,test_features)"
   ]
  },
  {
   "cell_type": "code",
   "execution_count": 7,
   "metadata": {},
   "outputs": [],
   "source": [
    "def results(labels, pred):\n",
    "    print(confusion_matrix(labels, pred))\n",
    "    print(classification_report(labels, pred))"
   ]
  },
  {
   "cell_type": "code",
   "execution_count": 8,
   "metadata": {},
   "outputs": [],
   "source": [
    "train_features,val_features,test_features=tf_idf(X_train,X_val,X_test)"
   ]
  },
  {
   "cell_type": "code",
   "execution_count": 9,
   "metadata": {},
   "outputs": [
    {
     "name": "stdout",
     "output_type": "stream",
     "text": [
      "Validation Accuracy of SVM : 0.7977678571428571\n"
     ]
    }
   ],
   "source": [
    "model = LinearSVC(C=1)\n",
    "model.fit(train_features, y_train)\n",
    "\n",
    "print(\"Validation Accuracy of SVM : %s\" % (accuracy_score(y_val, model.predict(val_features))))"
   ]
  },
  {
   "cell_type": "code",
   "execution_count": 10,
   "metadata": {},
   "outputs": [
    {
     "name": "stdout",
     "output_type": "stream",
     "text": [
      "Test Accuracy of SVM : 0.7987249544626593\n",
      "[[1324   18   52]\n",
      " [  84  239   39]\n",
      " [ 207   42  191]]\n",
      "              precision    recall  f1-score   support\n",
      "\n",
      "           0       0.82      0.95      0.88      1394\n",
      "           1       0.80      0.66      0.72       362\n",
      "           2       0.68      0.43      0.53       440\n",
      "\n",
      "    accuracy                           0.80      2196\n",
      "   macro avg       0.77      0.68      0.71      2196\n",
      "weighted avg       0.79      0.80      0.78      2196\n",
      "\n"
     ]
    }
   ],
   "source": [
    "print(\"Test Accuracy of SVM : %s\" % (accuracy_score(y_test, model.predict(test_features))))\n",
    "results(y_test, model.predict(test_features))"
   ]
  },
  {
   "cell_type": "code",
   "execution_count": 12,
   "metadata": {},
   "outputs": [],
   "source": [
    "y_score=model.predict(test_features)"
   ]
  },
  {
   "cell_type": "code",
   "execution_count": 13,
   "metadata": {},
   "outputs": [
    {
     "data": {
      "image/png": "[encoded data removed]",
      "text/plain": [
       "<Figure size 432x288 with 1 Axes>"
      ]
     },
     "metadata": {
      "needs_background": "light"
     },
     "output_type": "display_data"
    }
   ],
   "source": [
    "from sklearn.preprocessing import label_binarize\n",
    "from sklearn.metrics import precision_recall_curve, roc_curve\n",
    "import matplotlib.pyplot as plt\n",
    "\n",
    "# binarize the output\n",
    "n_classes = 3\n",
    "y_test = np.array(y_test)\n",
    "y_test_b = label_binarize(y_test, classes=[*range(n_classes)])\n",
    "y_score_b = label_binarize(y_score, classes=[*range(n_classes)])\n",
    "\n",
    "# precision recall curve\n",
    "precision = dict()\n",
    "recall = dict()\n",
    "for i in range(n_classes):\n",
    "    precision[i], recall[i], _ = precision_recall_curve(y_test_b[:, i],\n",
    "                                                        y_score_b[:, i])\n",
    "    plt.plot(recall[i], precision[i], lw=2, label='class {}'.format(i))\n",
    "\n",
    "plt.xlabel(\"recall\")\n",
    "plt.ylabel(\"precision\")\n",
    "plt.legend(loc=\"best\")\n",
    "plt.title(\"precision vs. recall curve\")\n",
    "plt.show()"
   ]
  },
  {
   "cell_type": "code",
   "execution_count": 14,
   "metadata": {},
   "outputs": [
    {
     "data": {
      "image/png": "[encoded data removed]",
      "text/plain": [
       "<Figure size 432x288 with 1 Axes>"
      ]
     },
     "metadata": {
      "needs_background": "light"
     },
     "output_type": "display_data"
    }
   ],
   "source": [
    "# roc curve\n",
    "fpr = dict()\n",
    "tpr = dict()\n",
    "\n",
    "for i in range(n_classes):\n",
    "    fpr[i], tpr[i], _ = roc_curve(y_test_b[:, i],\n",
    "                                  y_score_b[:, i])\n",
    "    plt.plot(fpr[i], tpr[i], lw=2, label='class {}'.format(i))\n",
    "\n",
    "plt.xlabel(\"false positive rate\")\n",
    "plt.ylabel(\"true positive rate\")\n",
    "plt.legend(loc=\"best\")\n",
    "plt.title(\"ROC curve\")\n",
    "plt.show()"
   ]
  }
 ],
 "metadata": {
  "kernelspec": {
   "display_name": "Python 3",
   "language": "python",
   "name": "python3"
  },
  "language_info": {
   "codemirror_mode": {
    "name": "ipython",
    "version": 3
   },
   "file_extension": ".py",
   "mimetype": "text/x-python",
   "name": "python",
   "nbconvert_exporter": "python",
   "pygments_lexer": "ipython3",
   "version": "3.6.9"
  }
 },
 "nbformat": 4,
 "nbformat_minor": 4
}
